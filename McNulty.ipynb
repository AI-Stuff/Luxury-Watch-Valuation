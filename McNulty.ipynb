{
 "cells": [
  {
   "cell_type": "code",
   "execution_count": 1,
   "metadata": {
    "collapsed": true
   },
   "outputs": [],
   "source": [
    "import pandas as pd"
   ]
  },
  {
   "cell_type": "code",
   "execution_count": 33,
   "metadata": {
    "collapsed": false
   },
   "outputs": [],
   "source": [
    "df = pd.read_csv('/home/adrienporter/McNulty/proj3-mcnulty/\\\n",
    "porter_adrien/watches/watches/watchbot_output/watchbot--2017-02-08T16-43-08.csv')"
   ]
  },
  {
   "cell_type": "code",
   "execution_count": 34,
   "metadata": {
    "collapsed": false
   },
   "outputs": [
    {
     "name": "stdout",
     "output_type": "stream",
     "text": [
      "<class 'pandas.core.frame.DataFrame'>\n",
      "RangeIndex: 9324 entries, 0 to 9323\n",
      "Data columns (total 18 columns):\n",
      "Unnamed: 0        7996 non-null object\n",
      "Case diameter     6258 non-null object\n",
      "Dial              6316 non-null object\n",
      "Code              5423 non-null object\n",
      "Ref. No.          6595 non-null object\n",
      "Waterproof        5067 non-null object\n",
      "url               9324 non-null object\n",
      "Gender            6936 non-null object\n",
      "Brand             9324 non-null object\n",
      "Bracelet color    5718 non-null object\n",
      "Availability      9324 non-null object\n",
      "Clasp             5431 non-null object\n",
      "Case material     8610 non-null object\n",
      "Location          9324 non-null object\n",
      "Date              2698 non-null object\n",
      "Price             4356 non-null object\n",
      "Condition         9041 non-null object\n",
      "Movement          8696 non-null object\n",
      "dtypes: object(18)\n",
      "memory usage: 1.3+ MB\n"
     ]
    }
   ],
   "source": [
    "df.info()"
   ]
  },
  {
   "cell_type": "code",
   "execution_count": 35,
   "metadata": {
    "collapsed": false
   },
   "outputs": [
    {
     "data": {
      "text/plain": [
       "array(['Rolex', 'Omega', 'IWC', 'Patek Philippe', 'Hublot', 'Panerai',\n",
       "       'Audemars Piguet', 'Breitling'], dtype=object)"
      ]
     },
     "execution_count": 35,
     "metadata": {},
     "output_type": "execute_result"
    }
   ],
   "source": [
    "df['Brand'].unique()"
   ]
  },
  {
   "cell_type": "code",
   "execution_count": null,
   "metadata": {
    "collapsed": true
   },
   "outputs": [],
   "source": []
  }
 ],
 "metadata": {
  "kernelspec": {
   "display_name": "Python 2",
   "language": "python",
   "name": "python2"
  },
  "language_info": {
   "codemirror_mode": {
    "name": "ipython",
    "version": 2
   },
   "file_extension": ".py",
   "mimetype": "text/x-python",
   "name": "python",
   "nbconvert_exporter": "python",
   "pygments_lexer": "ipython2",
   "version": "2.7.13"
  }
 },
 "nbformat": 4,
 "nbformat_minor": 2
}
