{
 "cells": [
  {
   "cell_type": "code",
   "execution_count": 3,
   "metadata": {
    "collapsed": false,
    "scrolled": true
   },
   "outputs": [],
   "source": [
    "import pandas as pd\n",
    "from collections import defaultdict\n",
    "import re\n",
    "import ast\n",
    "import seaborn as sns\n",
    "from pandas import Categorical\n",
    "import matplotlib.pyplot as plt\n",
    "import numpy as np\n",
    "\n",
    "pd.options.display.max_columns = 999\n",
    "\n",
    "%matplotlib inline"
   ]
  },
  {
   "cell_type": "code",
   "execution_count": 4,
   "metadata": {
    "collapsed": false,
    "scrolled": true
   },
   "outputs": [],
   "source": [
    "dftest = pd.read_csv('/home/adrienporter/McNulty/proj3-mcnulty/\\\n",
    "porter_adrien/watches/watches/watchbot_output/watchbot4.csv')"
   ]
  },
  {
   "cell_type": "code",
   "execution_count": 5,
   "metadata": {
    "collapsed": false,
    "scrolled": true
   },
   "outputs": [],
   "source": [
    "def unique_functions(df_columns):\n",
    "    d = defaultdict(int)\n",
    "    unique = set()\n",
    "    for i in df_columns:\n",
    "        separate = i.split(',')\n",
    "        for j in separate:\n",
    "            unique.add(j.strip())\n",
    "    return unique\n",
    "    "
   ]
  },
  {
   "cell_type": "code",
   "execution_count": 6,
   "metadata": {
    "collapsed": false,
    "scrolled": true
   },
   "outputs": [],
   "source": [
    "columns = unique_functions(dftest.columns)"
   ]
  },
  {
   "cell_type": "code",
   "execution_count": 7,
   "metadata": {
    "collapsed": false,
    "scrolled": true
   },
   "outputs": [],
   "source": [
    "f = open('/home/adrienporter/McNulty/proj3-mcnulty/porter_adrien/watches/watches/logs/scrapy_output3.txt', 'r')\n",
    "log = f.read()\n",
    "log_data = re.findall('{.+}', log)\n",
    "dict_list = []\n",
    "for i in log_data:\n",
    "    dict_list.append(ast.literal_eval(i))\n",
    "# dict_list"
   ]
  },
  {
   "cell_type": "code",
   "execution_count": 8,
   "metadata": {
    "collapsed": false,
    "scrolled": true
   },
   "outputs": [],
   "source": [
    "clean_dicts = []\n",
    "\n",
    "for watch_dict in dict_list[1:]:\n",
    "    for k, v in watch_dict.items():\n",
    "        if k == v:\n",
    "            for i in k.split(','):\n",
    "                watch_dict[i.strip()] = 1\n",
    "            watch_dict.pop(k, None)\n",
    "    clean_dicts.append(watch_dict)\n",
    "# clean_dicts\n"
   ]
  },
  {
   "cell_type": "code",
   "execution_count": 9,
   "metadata": {
    "collapsed": false,
    "scrolled": true
   },
   "outputs": [],
   "source": [
    "df = pd.DataFrame(clean_dicts)"
   ]
  },
  {
   "cell_type": "code",
   "execution_count": 10,
   "metadata": {
    "collapsed": false,
    "scrolled": true
   },
   "outputs": [
    {
     "data": {
      "text/html": [
       "<div>\n",
       "<table border=\"1\" class=\"dataframe\">\n",
       "  <thead>\n",
       "    <tr style=\"text-align: right;\">\n",
       "      <th></th>\n",
       "      <th></th>\n",
       "      <th>4 Year Calendar</th>\n",
       "      <th>Alarm</th>\n",
       "      <th>Annual calendar</th>\n",
       "      <th>Availability</th>\n",
       "      <th>Base Caliber</th>\n",
       "      <th>Blue Steel Hands</th>\n",
       "      <th>Bracelet color</th>\n",
       "      <th>Bracelet length</th>\n",
       "      <th>Bracelet material</th>\n",
       "      <th>Bracelet thickness</th>\n",
       "      <th>Brand</th>\n",
       "      <th>Buckle width</th>\n",
       "      <th>Case diameter</th>\n",
       "      <th>Case material</th>\n",
       "      <th>Center Seconds</th>\n",
       "      <th>Chiming clock</th>\n",
       "      <th>Chronograph</th>\n",
       "      <th>Chronometer</th>\n",
       "      <th>Clasp</th>\n",
       "      <th>Clasp material</th>\n",
       "      <th>Code</th>\n",
       "      <th>Condition</th>\n",
       "      <th>Crown Left</th>\n",
       "      <th>Date</th>\n",
       "      <th>Dial</th>\n",
       "      <th>Dial numerals</th>\n",
       "      <th>Display Back</th>\n",
       "      <th>Double Chronograph</th>\n",
       "      <th>Equation of time</th>\n",
       "      <th>Flyback</th>\n",
       "      <th>Frequency</th>\n",
       "      <th>GMT</th>\n",
       "      <th>Gemstone</th>\n",
       "      <th>Gender</th>\n",
       "      <th>Genevian Seal</th>\n",
       "      <th>Glass</th>\n",
       "      <th>Guilloche Dial</th>\n",
       "      <th>Guilloche Dial (handwork)</th>\n",
       "      <th>Helium Valve</th>\n",
       "      <th>Jumping hour</th>\n",
       "      <th>Limited Edition</th>\n",
       "      <th>Location</th>\n",
       "      <th>Luminescent Hands</th>\n",
       "      <th>Luminescent Numerals</th>\n",
       "      <th>Luminous indexes</th>\n",
       "      <th>Material bezel</th>\n",
       "      <th>Minute Repeater</th>\n",
       "      <th>Month</th>\n",
       "      <th>Moonphase</th>\n",
       "      <th>Movement</th>\n",
       "      <th>Movement/Caliber</th>\n",
       "      <th>Number of jewels</th>\n",
       "      <th>Only Original Parts</th>\n",
       "      <th>PVD/DLC coating</th>\n",
       "      <th>Panorama-Date</th>\n",
       "      <th>Perpetual Calendar</th>\n",
       "      <th>Power Reserve Display</th>\n",
       "      <th>Power reserve</th>\n",
       "      <th>Price</th>\n",
       "      <th>Quick Set</th>\n",
       "      <th>Ref. No.</th>\n",
       "      <th>Repeater</th>\n",
       "      <th>Rotating Bezel</th>\n",
       "      <th>Screw-Down Crown</th>\n",
       "      <th>Screw-Down Push-Buttons</th>\n",
       "      <th>Skeletonized</th>\n",
       "      <th>Small Seconds</th>\n",
       "      <th>Tachymeter</th>\n",
       "      <th>Thickness</th>\n",
       "      <th>Tourbillon</th>\n",
       "      <th>Waterproof</th>\n",
       "      <th>Weekday</th>\n",
       "      <th>Year</th>\n",
       "      <th>url</th>\n",
       "    </tr>\n",
       "  </thead>\n",
       "  <tbody>\n",
       "    <tr>\n",
       "      <th>0</th>\n",
       "      <td>NaN</td>\n",
       "      <td>NaN</td>\n",
       "      <td>NaN</td>\n",
       "      <td>NaN</td>\n",
       "      <td>Available now</td>\n",
       "      <td>NaN</td>\n",
       "      <td>NaN</td>\n",
       "      <td>Gold</td>\n",
       "      <td>NaN</td>\n",
       "      <td>White Gold</td>\n",
       "      <td>NaN</td>\n",
       "      <td>Rolex</td>\n",
       "      <td>NaN</td>\n",
       "      <td>29 mm</td>\n",
       "      <td>White gold</td>\n",
       "      <td>NaN</td>\n",
       "      <td>NaN</td>\n",
       "      <td>NaN</td>\n",
       "      <td>NaN</td>\n",
       "      <td>Fold clasp</td>\n",
       "      <td>NaN</td>\n",
       "      <td>15312</td>\n",
       "      <td>2 (fine)</td>\n",
       "      <td>NaN</td>\n",
       "      <td>NaN</td>\n",
       "      <td>NaN</td>\n",
       "      <td>NaN</td>\n",
       "      <td>NaN</td>\n",
       "      <td>NaN</td>\n",
       "      <td>NaN</td>\n",
       "      <td>NaN</td>\n",
       "      <td>NaN</td>\n",
       "      <td>NaN</td>\n",
       "      <td>NaN</td>\n",
       "      <td>Ladies' watch</td>\n",
       "      <td>NaN</td>\n",
       "      <td>NaN</td>\n",
       "      <td>NaN</td>\n",
       "      <td>NaN</td>\n",
       "      <td>NaN</td>\n",
       "      <td>NaN</td>\n",
       "      <td>NaN</td>\n",
       "      <td>United States, New York, New York</td>\n",
       "      <td>NaN</td>\n",
       "      <td>NaN</td>\n",
       "      <td>NaN</td>\n",
       "      <td>NaN</td>\n",
       "      <td>NaN</td>\n",
       "      <td>NaN</td>\n",
       "      <td>NaN</td>\n",
       "      <td>Automatic</td>\n",
       "      <td>Automatic Self Wind</td>\n",
       "      <td>NaN</td>\n",
       "      <td>NaN</td>\n",
       "      <td>NaN</td>\n",
       "      <td>NaN</td>\n",
       "      <td>NaN</td>\n",
       "      <td>NaN</td>\n",
       "      <td>NaN</td>\n",
       "      <td>$12,999 [Negotiable]</td>\n",
       "      <td>NaN</td>\n",
       "      <td>80319</td>\n",
       "      <td>NaN</td>\n",
       "      <td>NaN</td>\n",
       "      <td>NaN</td>\n",
       "      <td>NaN</td>\n",
       "      <td>NaN</td>\n",
       "      <td>NaN</td>\n",
       "      <td>NaN</td>\n",
       "      <td>10 mm</td>\n",
       "      <td>NaN</td>\n",
       "      <td>NaN</td>\n",
       "      <td>NaN</td>\n",
       "      <td>NaN</td>\n",
       "      <td>http://www.chrono24.com/rolex/datejust-80319-1...</td>\n",
       "    </tr>\n",
       "    <tr>\n",
       "      <th>1</th>\n",
       "      <td>With papers</td>\n",
       "      <td>NaN</td>\n",
       "      <td>NaN</td>\n",
       "      <td>NaN</td>\n",
       "      <td>Available now</td>\n",
       "      <td>NaN</td>\n",
       "      <td>NaN</td>\n",
       "      <td>Silver</td>\n",
       "      <td>NaN</td>\n",
       "      <td>NaN</td>\n",
       "      <td>NaN</td>\n",
       "      <td>Rolex</td>\n",
       "      <td>NaN</td>\n",
       "      <td>41 mm</td>\n",
       "      <td>White gold</td>\n",
       "      <td>NaN</td>\n",
       "      <td>NaN</td>\n",
       "      <td>NaN</td>\n",
       "      <td>NaN</td>\n",
       "      <td>Fold clasp</td>\n",
       "      <td>NaN</td>\n",
       "      <td>ROLE310959_1</td>\n",
       "      <td>1 (mint)</td>\n",
       "      <td>NaN</td>\n",
       "      <td>NaN</td>\n",
       "      <td>Black</td>\n",
       "      <td>NaN</td>\n",
       "      <td>NaN</td>\n",
       "      <td>NaN</td>\n",
       "      <td>NaN</td>\n",
       "      <td>NaN</td>\n",
       "      <td>NaN</td>\n",
       "      <td>NaN</td>\n",
       "      <td>NaN</td>\n",
       "      <td>Men's watch/Unisex</td>\n",
       "      <td>NaN</td>\n",
       "      <td>NaN</td>\n",
       "      <td>NaN</td>\n",
       "      <td>NaN</td>\n",
       "      <td>NaN</td>\n",
       "      <td>NaN</td>\n",
       "      <td>NaN</td>\n",
       "      <td>United States, Pennsylvania, Philadelphia</td>\n",
       "      <td>NaN</td>\n",
       "      <td>NaN</td>\n",
       "      <td>NaN</td>\n",
       "      <td>NaN</td>\n",
       "      <td>NaN</td>\n",
       "      <td>NaN</td>\n",
       "      <td>NaN</td>\n",
       "      <td>Automatic</td>\n",
       "      <td>NaN</td>\n",
       "      <td>NaN</td>\n",
       "      <td>NaN</td>\n",
       "      <td>NaN</td>\n",
       "      <td>NaN</td>\n",
       "      <td>NaN</td>\n",
       "      <td>NaN</td>\n",
       "      <td>NaN</td>\n",
       "      <td>$29,500</td>\n",
       "      <td>NaN</td>\n",
       "      <td>218239</td>\n",
       "      <td>NaN</td>\n",
       "      <td>NaN</td>\n",
       "      <td>NaN</td>\n",
       "      <td>NaN</td>\n",
       "      <td>NaN</td>\n",
       "      <td>NaN</td>\n",
       "      <td>NaN</td>\n",
       "      <td>NaN</td>\n",
       "      <td>NaN</td>\n",
       "      <td>10 ATM</td>\n",
       "      <td>NaN</td>\n",
       "      <td>NaN</td>\n",
       "      <td>http://www.chrono24.com/rolex/day-date-ii-2182...</td>\n",
       "    </tr>\n",
       "    <tr>\n",
       "      <th>2</th>\n",
       "      <td>NaN</td>\n",
       "      <td>NaN</td>\n",
       "      <td>NaN</td>\n",
       "      <td>NaN</td>\n",
       "      <td>Available now</td>\n",
       "      <td>NaN</td>\n",
       "      <td>NaN</td>\n",
       "      <td>Gold/Steel</td>\n",
       "      <td>NaN</td>\n",
       "      <td>Gold/Steel</td>\n",
       "      <td>NaN</td>\n",
       "      <td>Rolex</td>\n",
       "      <td>NaN</td>\n",
       "      <td>36 mm</td>\n",
       "      <td>Steel</td>\n",
       "      <td>NaN</td>\n",
       "      <td>NaN</td>\n",
       "      <td>NaN</td>\n",
       "      <td>NaN</td>\n",
       "      <td>Fold clasp</td>\n",
       "      <td>Steel</td>\n",
       "      <td>RX0105171X</td>\n",
       "      <td>1 (mint)</td>\n",
       "      <td>NaN</td>\n",
       "      <td>NaN</td>\n",
       "      <td>Silver</td>\n",
       "      <td>NaN</td>\n",
       "      <td>NaN</td>\n",
       "      <td>NaN</td>\n",
       "      <td>NaN</td>\n",
       "      <td>NaN</td>\n",
       "      <td>NaN</td>\n",
       "      <td>NaN</td>\n",
       "      <td>NaN</td>\n",
       "      <td>Men's watch/Unisex</td>\n",
       "      <td>NaN</td>\n",
       "      <td>Sapphire Glass</td>\n",
       "      <td>NaN</td>\n",
       "      <td>NaN</td>\n",
       "      <td>NaN</td>\n",
       "      <td>NaN</td>\n",
       "      <td>NaN</td>\n",
       "      <td>United States, New York, New York</td>\n",
       "      <td>NaN</td>\n",
       "      <td>NaN</td>\n",
       "      <td>NaN</td>\n",
       "      <td>Yellow gold</td>\n",
       "      <td>NaN</td>\n",
       "      <td>NaN</td>\n",
       "      <td>NaN</td>\n",
       "      <td>Automatic</td>\n",
       "      <td>NaN</td>\n",
       "      <td>NaN</td>\n",
       "      <td>NaN</td>\n",
       "      <td>NaN</td>\n",
       "      <td>NaN</td>\n",
       "      <td>NaN</td>\n",
       "      <td>NaN</td>\n",
       "      <td>NaN</td>\n",
       "      <td>$6,199 [Negotiable]</td>\n",
       "      <td>NaN</td>\n",
       "      <td>16263</td>\n",
       "      <td>NaN</td>\n",
       "      <td>NaN</td>\n",
       "      <td>NaN</td>\n",
       "      <td>NaN</td>\n",
       "      <td>NaN</td>\n",
       "      <td>NaN</td>\n",
       "      <td>NaN</td>\n",
       "      <td>NaN</td>\n",
       "      <td>NaN</td>\n",
       "      <td>NaN</td>\n",
       "      <td>NaN</td>\n",
       "      <td>2001</td>\n",
       "      <td>http://www.chrono24.com/rolex/mens-rolex-datej...</td>\n",
       "    </tr>\n",
       "    <tr>\n",
       "      <th>3</th>\n",
       "      <td>With papers</td>\n",
       "      <td>NaN</td>\n",
       "      <td>NaN</td>\n",
       "      <td>NaN</td>\n",
       "      <td>Available now</td>\n",
       "      <td>NaN</td>\n",
       "      <td>NaN</td>\n",
       "      <td>Gold</td>\n",
       "      <td>NaN</td>\n",
       "      <td>NaN</td>\n",
       "      <td>NaN</td>\n",
       "      <td>Rolex</td>\n",
       "      <td>NaN</td>\n",
       "      <td>26 x 32.6 mm</td>\n",
       "      <td>NaN</td>\n",
       "      <td>NaN</td>\n",
       "      <td>NaN</td>\n",
       "      <td>NaN</td>\n",
       "      <td>NaN</td>\n",
       "      <td>Fold clasp, hidden</td>\n",
       "      <td>NaN</td>\n",
       "      <td>RLX6811</td>\n",
       "      <td>1 (mint)</td>\n",
       "      <td>NaN</td>\n",
       "      <td>NaN</td>\n",
       "      <td>Mother of pearl</td>\n",
       "      <td>NaN</td>\n",
       "      <td>NaN</td>\n",
       "      <td>NaN</td>\n",
       "      <td>NaN</td>\n",
       "      <td>NaN</td>\n",
       "      <td>NaN</td>\n",
       "      <td>NaN</td>\n",
       "      <td>NaN</td>\n",
       "      <td>Ladies' watch</td>\n",
       "      <td>NaN</td>\n",
       "      <td>Sapphire Glass</td>\n",
       "      <td>NaN</td>\n",
       "      <td>NaN</td>\n",
       "      <td>NaN</td>\n",
       "      <td>NaN</td>\n",
       "      <td>NaN</td>\n",
       "      <td>United States, Texas, Austin</td>\n",
       "      <td>NaN</td>\n",
       "      <td>NaN</td>\n",
       "      <td>NaN</td>\n",
       "      <td>NaN</td>\n",
       "      <td>NaN</td>\n",
       "      <td>NaN</td>\n",
       "      <td>NaN</td>\n",
       "      <td>Automatic</td>\n",
       "      <td>Rolex 2235</td>\n",
       "      <td>NaN</td>\n",
       "      <td>NaN</td>\n",
       "      <td>NaN</td>\n",
       "      <td>NaN</td>\n",
       "      <td>NaN</td>\n",
       "      <td>NaN</td>\n",
       "      <td>NaN</td>\n",
       "      <td>$15,900</td>\n",
       "      <td>NaN</td>\n",
       "      <td>179368</td>\n",
       "      <td>NaN</td>\n",
       "      <td>NaN</td>\n",
       "      <td>NaN</td>\n",
       "      <td>NaN</td>\n",
       "      <td>NaN</td>\n",
       "      <td>NaN</td>\n",
       "      <td>NaN</td>\n",
       "      <td>11 mm</td>\n",
       "      <td>NaN</td>\n",
       "      <td>NaN</td>\n",
       "      <td>NaN</td>\n",
       "      <td>2002</td>\n",
       "      <td>http://www.chrono24.com/rolex/--ladies-preside...</td>\n",
       "    </tr>\n",
       "    <tr>\n",
       "      <th>4</th>\n",
       "      <td>With box</td>\n",
       "      <td>NaN</td>\n",
       "      <td>NaN</td>\n",
       "      <td>NaN</td>\n",
       "      <td>Available now</td>\n",
       "      <td>NaN</td>\n",
       "      <td>NaN</td>\n",
       "      <td>NaN</td>\n",
       "      <td>NaN</td>\n",
       "      <td>NaN</td>\n",
       "      <td>NaN</td>\n",
       "      <td>Rolex</td>\n",
       "      <td>NaN</td>\n",
       "      <td>31 mm</td>\n",
       "      <td>Steel</td>\n",
       "      <td>NaN</td>\n",
       "      <td>NaN</td>\n",
       "      <td>NaN</td>\n",
       "      <td>NaN</td>\n",
       "      <td>NaN</td>\n",
       "      <td>NaN</td>\n",
       "      <td>W11364</td>\n",
       "      <td>1 (mint)</td>\n",
       "      <td>NaN</td>\n",
       "      <td>NaN</td>\n",
       "      <td>Silver</td>\n",
       "      <td>NaN</td>\n",
       "      <td>NaN</td>\n",
       "      <td>NaN</td>\n",
       "      <td>NaN</td>\n",
       "      <td>NaN</td>\n",
       "      <td>NaN</td>\n",
       "      <td>NaN</td>\n",
       "      <td>NaN</td>\n",
       "      <td>NaN</td>\n",
       "      <td>NaN</td>\n",
       "      <td>Sapphire Glass</td>\n",
       "      <td>NaN</td>\n",
       "      <td>NaN</td>\n",
       "      <td>NaN</td>\n",
       "      <td>NaN</td>\n",
       "      <td>NaN</td>\n",
       "      <td>United States, California, Newport Beach</td>\n",
       "      <td>NaN</td>\n",
       "      <td>NaN</td>\n",
       "      <td>NaN</td>\n",
       "      <td>NaN</td>\n",
       "      <td>NaN</td>\n",
       "      <td>NaN</td>\n",
       "      <td>NaN</td>\n",
       "      <td>Automatic</td>\n",
       "      <td>NaN</td>\n",
       "      <td>NaN</td>\n",
       "      <td>NaN</td>\n",
       "      <td>NaN</td>\n",
       "      <td>NaN</td>\n",
       "      <td>NaN</td>\n",
       "      <td>NaN</td>\n",
       "      <td>NaN</td>\n",
       "      <td>$4,125</td>\n",
       "      <td>NaN</td>\n",
       "      <td>NaN</td>\n",
       "      <td>NaN</td>\n",
       "      <td>NaN</td>\n",
       "      <td>NaN</td>\n",
       "      <td>NaN</td>\n",
       "      <td>NaN</td>\n",
       "      <td>NaN</td>\n",
       "      <td>NaN</td>\n",
       "      <td>NaN</td>\n",
       "      <td>NaN</td>\n",
       "      <td>30 ATM</td>\n",
       "      <td>NaN</td>\n",
       "      <td>NaN</td>\n",
       "      <td>http://www.chrono24.com/rolex/datejust-mid-siz...</td>\n",
       "    </tr>\n",
       "  </tbody>\n",
       "</table>\n",
       "</div>"
      ],
      "text/plain": [
       "                4 Year Calendar  Alarm  Annual calendar   Availability  \\\n",
       "0          NaN              NaN    NaN              NaN  Available now   \n",
       "1  With papers              NaN    NaN              NaN  Available now   \n",
       "2          NaN              NaN    NaN              NaN  Available now   \n",
       "3  With papers              NaN    NaN              NaN  Available now   \n",
       "4     With box              NaN    NaN              NaN  Available now   \n",
       "\n",
       "  Base Caliber  Blue Steel Hands Bracelet color Bracelet length  \\\n",
       "0          NaN               NaN           Gold             NaN   \n",
       "1          NaN               NaN         Silver             NaN   \n",
       "2          NaN               NaN     Gold/Steel             NaN   \n",
       "3          NaN               NaN           Gold             NaN   \n",
       "4          NaN               NaN            NaN             NaN   \n",
       "\n",
       "  Bracelet material Bracelet thickness  Brand Buckle width Case diameter  \\\n",
       "0        White Gold                NaN  Rolex          NaN         29 mm   \n",
       "1               NaN                NaN  Rolex          NaN         41 mm   \n",
       "2        Gold/Steel                NaN  Rolex          NaN         36 mm   \n",
       "3               NaN                NaN  Rolex          NaN  26 x 32.6 mm   \n",
       "4               NaN                NaN  Rolex          NaN         31 mm   \n",
       "\n",
       "  Case material  Center Seconds  Chiming clock  Chronograph  Chronometer  \\\n",
       "0    White gold             NaN            NaN          NaN          NaN   \n",
       "1    White gold             NaN            NaN          NaN          NaN   \n",
       "2         Steel             NaN            NaN          NaN          NaN   \n",
       "3           NaN             NaN            NaN          NaN          NaN   \n",
       "4         Steel             NaN            NaN          NaN          NaN   \n",
       "\n",
       "                Clasp Clasp material          Code Condition  Crown Left  \\\n",
       "0          Fold clasp            NaN         15312  2 (fine)         NaN   \n",
       "1          Fold clasp            NaN  ROLE310959_1  1 (mint)         NaN   \n",
       "2          Fold clasp          Steel    RX0105171X  1 (mint)         NaN   \n",
       "3  Fold clasp, hidden            NaN       RLX6811  1 (mint)         NaN   \n",
       "4                 NaN            NaN        W11364  1 (mint)         NaN   \n",
       "\n",
       "   Date             Dial Dial numerals  Display Back  Double Chronograph  \\\n",
       "0   NaN              NaN           NaN           NaN                 NaN   \n",
       "1   NaN            Black           NaN           NaN                 NaN   \n",
       "2   NaN           Silver           NaN           NaN                 NaN   \n",
       "3   NaN  Mother of pearl           NaN           NaN                 NaN   \n",
       "4   NaN           Silver           NaN           NaN                 NaN   \n",
       "\n",
       "   Equation of time  Flyback Frequency  GMT  Gemstone              Gender  \\\n",
       "0               NaN      NaN       NaN  NaN       NaN       Ladies' watch   \n",
       "1               NaN      NaN       NaN  NaN       NaN  Men's watch/Unisex   \n",
       "2               NaN      NaN       NaN  NaN       NaN  Men's watch/Unisex   \n",
       "3               NaN      NaN       NaN  NaN       NaN       Ladies' watch   \n",
       "4               NaN      NaN       NaN  NaN       NaN                 NaN   \n",
       "\n",
       "   Genevian Seal           Glass  Guilloche Dial  Guilloche Dial (handwork)  \\\n",
       "0            NaN             NaN             NaN                        NaN   \n",
       "1            NaN             NaN             NaN                        NaN   \n",
       "2            NaN  Sapphire Glass             NaN                        NaN   \n",
       "3            NaN  Sapphire Glass             NaN                        NaN   \n",
       "4            NaN  Sapphire Glass             NaN                        NaN   \n",
       "\n",
       "   Helium Valve  Jumping hour  Limited Edition  \\\n",
       "0           NaN           NaN              NaN   \n",
       "1           NaN           NaN              NaN   \n",
       "2           NaN           NaN              NaN   \n",
       "3           NaN           NaN              NaN   \n",
       "4           NaN           NaN              NaN   \n",
       "\n",
       "                                    Location  Luminescent Hands  \\\n",
       "0          United States, New York, New York                NaN   \n",
       "1  United States, Pennsylvania, Philadelphia                NaN   \n",
       "2          United States, New York, New York                NaN   \n",
       "3               United States, Texas, Austin                NaN   \n",
       "4   United States, California, Newport Beach                NaN   \n",
       "\n",
       "   Luminescent Numerals  Luminous indexes Material bezel  Minute Repeater  \\\n",
       "0                   NaN               NaN            NaN              NaN   \n",
       "1                   NaN               NaN            NaN              NaN   \n",
       "2                   NaN               NaN    Yellow gold              NaN   \n",
       "3                   NaN               NaN            NaN              NaN   \n",
       "4                   NaN               NaN            NaN              NaN   \n",
       "\n",
       "   Month  Moonphase   Movement     Movement/Caliber Number of jewels  \\\n",
       "0    NaN        NaN  Automatic  Automatic Self Wind              NaN   \n",
       "1    NaN        NaN  Automatic                  NaN              NaN   \n",
       "2    NaN        NaN  Automatic                  NaN              NaN   \n",
       "3    NaN        NaN  Automatic           Rolex 2235              NaN   \n",
       "4    NaN        NaN  Automatic                  NaN              NaN   \n",
       "\n",
       "   Only Original Parts  PVD/DLC coating  Panorama-Date  Perpetual Calendar  \\\n",
       "0                  NaN              NaN            NaN                 NaN   \n",
       "1                  NaN              NaN            NaN                 NaN   \n",
       "2                  NaN              NaN            NaN                 NaN   \n",
       "3                  NaN              NaN            NaN                 NaN   \n",
       "4                  NaN              NaN            NaN                 NaN   \n",
       "\n",
       "   Power Reserve Display Power reserve                 Price  Quick Set  \\\n",
       "0                    NaN           NaN  $12,999 [Negotiable]        NaN   \n",
       "1                    NaN           NaN               $29,500        NaN   \n",
       "2                    NaN           NaN   $6,199 [Negotiable]        NaN   \n",
       "3                    NaN           NaN               $15,900        NaN   \n",
       "4                    NaN           NaN                $4,125        NaN   \n",
       "\n",
       "  Ref. No.  Repeater  Rotating Bezel  Screw-Down Crown  \\\n",
       "0    80319       NaN             NaN               NaN   \n",
       "1   218239       NaN             NaN               NaN   \n",
       "2    16263       NaN             NaN               NaN   \n",
       "3   179368       NaN             NaN               NaN   \n",
       "4      NaN       NaN             NaN               NaN   \n",
       "\n",
       "   Screw-Down Push-Buttons  Skeletonized  Small Seconds  Tachymeter Thickness  \\\n",
       "0                      NaN           NaN            NaN         NaN     10 mm   \n",
       "1                      NaN           NaN            NaN         NaN       NaN   \n",
       "2                      NaN           NaN            NaN         NaN       NaN   \n",
       "3                      NaN           NaN            NaN         NaN     11 mm   \n",
       "4                      NaN           NaN            NaN         NaN       NaN   \n",
       "\n",
       "   Tourbillon Waterproof  Weekday  Year  \\\n",
       "0         NaN        NaN      NaN   NaN   \n",
       "1         NaN     10 ATM      NaN   NaN   \n",
       "2         NaN        NaN      NaN  2001   \n",
       "3         NaN        NaN      NaN  2002   \n",
       "4         NaN     30 ATM      NaN   NaN   \n",
       "\n",
       "                                                 url  \n",
       "0  http://www.chrono24.com/rolex/datejust-80319-1...  \n",
       "1  http://www.chrono24.com/rolex/day-date-ii-2182...  \n",
       "2  http://www.chrono24.com/rolex/mens-rolex-datej...  \n",
       "3  http://www.chrono24.com/rolex/--ladies-preside...  \n",
       "4  http://www.chrono24.com/rolex/datejust-mid-siz...  "
      ]
     },
     "execution_count": 10,
     "metadata": {},
     "output_type": "execute_result"
    }
   ],
   "source": [
    "df.head()"
   ]
  },
  {
   "cell_type": "markdown",
   "metadata": {},
   "source": [
    "## Clean Case Diameter"
   ]
  },
  {
   "cell_type": "code",
   "execution_count": 11,
   "metadata": {
    "collapsed": false,
    "scrolled": true
   },
   "outputs": [],
   "source": [
    "import re\n",
    "def clean_case_d(s):\n",
    "    try:\n",
    "        x = re.findall(r'^[0-9.,]+', s)\n",
    "        x = re.sub(',', '.', x[0])\n",
    "        return x\n",
    "    except:\n",
    "        return None\n",
    "    "
   ]
  },
  {
   "cell_type": "code",
   "execution_count": 12,
   "metadata": {
    "collapsed": false,
    "scrolled": true
   },
   "outputs": [],
   "source": [
    "df['Case diameter'] = df['Case diameter'].apply(clean_case_d)\n",
    "df['Case diameter'] = pd.to_numeric(df['Case diameter'], errors='coerce')"
   ]
  },
  {
   "cell_type": "markdown",
   "metadata": {
    "collapsed": true
   },
   "source": [
    "## Clean Price"
   ]
  },
  {
   "cell_type": "code",
   "execution_count": 13,
   "metadata": {
    "collapsed": true,
    "scrolled": false
   },
   "outputs": [],
   "source": [
    "def clean_price(s):\n",
    "    try:\n",
    "        x = re.findall(r'[0-9,]+', s)\n",
    "        x = re.sub(',', '', x[0])\n",
    "        return x\n",
    "    except:\n",
    "        return None\n",
    "    "
   ]
  },
  {
   "cell_type": "code",
   "execution_count": 14,
   "metadata": {
    "collapsed": false
   },
   "outputs": [],
   "source": [
    "df['Price'] = df['Price'].apply(clean_price)"
   ]
  },
  {
   "cell_type": "code",
   "execution_count": 15,
   "metadata": {
    "collapsed": false
   },
   "outputs": [],
   "source": [
    "df['Price'] = pd.to_numeric(df['Price'])"
   ]
  },
  {
   "cell_type": "markdown",
   "metadata": {},
   "source": [
    "## Clean Year"
   ]
  },
  {
   "cell_type": "code",
   "execution_count": 16,
   "metadata": {
    "collapsed": false
   },
   "outputs": [],
   "source": [
    "def clean_year(s):\n",
    "    try:\n",
    "        x = re.findall(r'([0-9]{4})', s)\n",
    "        if int(x[0]) > 2018 or int(x[0])< 1700:\n",
    "            return None\n",
    "        else:\n",
    "            return x[0]\n",
    "    except:\n",
    "        return None\n",
    "    "
   ]
  },
  {
   "cell_type": "code",
   "execution_count": 17,
   "metadata": {
    "collapsed": false
   },
   "outputs": [],
   "source": [
    "df['Year'] = df['Year'].apply(clean_year)"
   ]
  },
  {
   "cell_type": "markdown",
   "metadata": {},
   "source": [
    "## Clean Frequency"
   ]
  },
  {
   "cell_type": "code",
   "execution_count": 18,
   "metadata": {
    "collapsed": false
   },
   "outputs": [
    {
     "data": {
      "text/plain": [
       "28800 A/h                                                                                                                                                                                                 869\n",
       "28,800 A/h                                                                                                                                                                                                586\n",
       "28.800 A/h                                                                                                                                                                                                521\n",
       "21600 A/h                                                                                                                                                                                                 256\n",
       "21,600 A/h                                                                                                                                                                                                 82\n",
       "21.600 A/h                                                                                                                                                                                                 54\n",
       "18000 A/h                                                                                                                                                                                                  30\n",
       "19800 A/h                                                                                                                                                                                                  22\n",
       "4 Hz                                                                                                                                                                                                       17\n",
       "3 Hz                                                                                                                                                                                                       13\n",
       "300 Hz                                                                                                                                                                                                      9\n",
       "36.000 A/h                                                                                                                                                                                                  8\n",
       "28800 Hz                                                                                                                                                                                                    8\n",
       "32768 Hz                                                                                                                                                                                                    8\n",
       "28,800 Hz                                                                                                                                                                                                   6\n",
       "28000 A/h                                                                                                                                                                                                   5\n",
       "36,600 A/h                                                                                                                                                                                                  4\n",
       "36000 A/h                                                                                                                                                                                                   4\n",
       "28.800 Hz                                                                                                                                                                                                   4\n",
       "32768 A/h                                                                                                                                                                                                   3\n",
       "32.768 Hz                                                                                                                                                                                                   3\n",
       "28,000 A/h                                                                                                                                                                                                  3\n",
       "movement Automatic movement. Hublot Caliber HUB1242. Beats at 28,800 vph. Contains 38 Jewels. 72 hours of power reserve. A/h                                                                                2\n",
       "23040 A/h                                                                                                                                                                                                   2\n",
       "28 800 A/h                                                                                                                                                                                                  2\n",
       "28 800 Hz                                                                                                                                                                                                   2\n",
       "19.800 A/h                                                                                                                                                                                                  2\n",
       "25.200 A/h                                                                                                                                                                                                  2\n",
       "43200 A/h                                                                                                                                                                                                   1\n",
       "4 A/h                                                                                                                                                                                                       1\n",
       "19,800 A/h                                                                                                                                                                                                  1\n",
       "movement Automatic movement. Hublot Caliber HUB 4300 , beats at 28,800 vph, composed out of 278 parts, contains 37 Jewels & has an approximate power reserve of 42 hours. HUB 4300 A/h                      1\n",
       "28,800（4 赫兹） A/h                                                                                                                                                                                            1\n",
       "28,80028,800 A/h                                                                                                                                                                                            1\n",
       "20.000 A/h                                                                                                                                                                                                  1\n",
       "28,600 A/h                                                                                                                                                                                                  1\n",
       "32.768 A/h                                                                                                                                                                                                  1\n",
       "18.000 A/h                                                                                                                                                                                                  1\n",
       "movement Manual Wind movement. Hublot Caliber HUB 1300, beats at 21,600 vph, composed out of 130 parts, contains 23 Jewels & has an approximate power reserve of an impressive 90 hours. HUB 1300 A/h       1\n",
       "19.800 Hz                                                                                                                                                                                                   1\n",
       "movement Automatic movement. Hublot Caliber HUB 4300 , beats at 28,800 vph, composed out of 278 parts, contains 37 Jewels & has an approximate power reserve of 42 hours. HUB4300 A/h                       1\n",
       "19800 Hz                                                                                                                                                                                                    1\n",
       "movement Manual Wind movement. Hublot Caliber HUB1300.4, beats at 21,600 vph, composed out of 123 parts, contains 21 Jewels & has an approximate power reserve of an impressive 90 hours. HUB 1300 A/h      1\n",
       "25200 A/h                                                                                                                                                                                                   1\n",
       "3,000 Hz                                                                                                                                                                                                    1\n",
       "movement Automatic movement Hublot Caliber HUB 4100, beats at 28,800 vph, composed out of 252 parts, contains 28 Jewels & has an approximate power reserve of 42 hours. HUB 4100 A/h                        1\n",
       "Balance frequency: 28,800 vibrations per hour (4 Hz) Hz                                                                                                                                                     1\n",
       "400 Hz                                                                                                                                                                                                      1\n",
       "2.75 Hz                                                                                                                                                                                                     1\n",
       "21'600 A/h                                                                                                                                                                                                  1\n",
       "18,000 A/h                                                                                                                                                                                                  1\n",
       "28400 A/h                                                                                                                                                                                                   1\n",
       "28800 alternances A/h                                                                                                                                                                                       1\n",
       "3.00 A/h                                                                                                                                                                                                    1\n",
       "Name: Frequency, dtype: int64"
      ]
     },
     "execution_count": 18,
     "metadata": {},
     "output_type": "execute_result"
    }
   ],
   "source": [
    "# df[df['Frequency'] == '28.800 Hz']\n",
    "df['Frequency'].value_counts()\n"
   ]
  },
  {
   "cell_type": "code",
   "execution_count": 19,
   "metadata": {
    "collapsed": true
   },
   "outputs": [],
   "source": [
    "def clean_freq(s):\n",
    "    try:\n",
    "        x = re.findall(r'([0-9]{4})', s)\n",
    "        if int(x[0]) > 2018 or int(x[0])< 1700:\n",
    "            return None\n",
    "        else:\n",
    "            return x[0]\n",
    "    except:\n",
    "        return None\n",
    "    "
   ]
  },
  {
   "cell_type": "markdown",
   "metadata": {},
   "source": [
    "## Clean Power Reserve"
   ]
  },
  {
   "cell_type": "code",
   "execution_count": 20,
   "metadata": {
    "collapsed": true
   },
   "outputs": [],
   "source": [
    "def clean_pr(s):\n",
    "    try:\n",
    "        x = re.findall(r'[0-9]+', s)\n",
    "        if int(x[0]) > 2000:\n",
    "            return None\n",
    "        else:\n",
    "            return x[0]\n",
    "    except:\n",
    "        return None"
   ]
  },
  {
   "cell_type": "code",
   "execution_count": 21,
   "metadata": {
    "collapsed": true
   },
   "outputs": [],
   "source": [
    "df['Power reserve'] = df['Power reserve'].apply(clean_pr)"
   ]
  },
  {
   "cell_type": "markdown",
   "metadata": {},
   "source": [
    "## Model Part 1: Predict Price"
   ]
  },
  {
   "cell_type": "code",
   "execution_count": 22,
   "metadata": {
    "collapsed": false
   },
   "outputs": [],
   "source": [
    "# rearrange columns\n",
    "cols = df.columns.tolist()\n",
    "cols = cols[11:] + cols[:11]\n",
    "# cols"
   ]
  },
  {
   "cell_type": "code",
   "execution_count": 23,
   "metadata": {
    "collapsed": false
   },
   "outputs": [],
   "source": [
    "df2 = df[cols]\n",
    "# df2.head()"
   ]
  },
  {
   "cell_type": "code",
   "execution_count": 24,
   "metadata": {
    "collapsed": false
   },
   "outputs": [],
   "source": [
    "# drop unnecessary columns\n",
    "df2 = df2.drop(['Code', 'Movement/Caliber', 'url', 'Availability', 'Location', 'Buckle width',\\\n",
    "               '', 'Number of jewels', 'Ref. No.', 'Thickness', 'Base Caliber', 'Bracelet length',\\\n",
    "                'Bracelet thickness', 'Frequency'], axis=1)\n"
   ]
  },
  {
   "cell_type": "code",
   "execution_count": 25,
   "metadata": {
    "collapsed": false,
    "scrolled": true
   },
   "outputs": [],
   "source": [
    "# df2.info()"
   ]
  },
  {
   "cell_type": "code",
   "execution_count": 26,
   "metadata": {
    "collapsed": true
   },
   "outputs": [],
   "source": [
    "vars_to_dummy = ['Case material', 'Clasp', 'Clasp material', 'Condition', 'Dial', 'Dial numerals', 'Gender', 'Glass',\\\n",
    "           'Material bezel', 'Movement', 'Waterproof', 'Bracelet color', 'Bracelet material', 'Brand']\n",
    "\n",
    "continuous_vars = ['Year', 'Price', 'Case diameter']"
   ]
  },
  {
   "cell_type": "code",
   "execution_count": 27,
   "metadata": {
    "collapsed": false
   },
   "outputs": [],
   "source": [
    "for i in df2.columns:\n",
    "    if i not in vars_to_dummy + continuous_vars:\n",
    "        df2[str(i)] = df2[str(i)].fillna(0)"
   ]
  },
  {
   "cell_type": "code",
   "execution_count": 28,
   "metadata": {
    "collapsed": false
   },
   "outputs": [],
   "source": [
    "df2 = df2.dropna(subset=['Price', 'Case diameter', 'Case material'])\n",
    "df2 = df2.drop(['Clasp', 'Clasp material', 'Condition', 'Dial', 'Dial numerals', \\\n",
    "                        'Gender', 'Glass', 'Material bezel', 'Movement', 'Movement', 'Waterproof', 'Year',\\\n",
    "                        'Bracelet color', 'Bracelet material'], axis=1)\n",
    "df2['log Case diameter'] = np.log(df2['Case diameter'])"
   ]
  },
  {
   "cell_type": "code",
   "execution_count": 29,
   "metadata": {
    "collapsed": false
   },
   "outputs": [],
   "source": [
    "# df2.info()"
   ]
  },
  {
   "cell_type": "code",
   "execution_count": 30,
   "metadata": {
    "collapsed": false
   },
   "outputs": [],
   "source": [
    "df2 = pd.get_dummies(df2, columns=['Brand', 'Case material'], drop_first=True)"
   ]
  },
  {
   "cell_type": "code",
   "execution_count": 187,
   "metadata": {
    "collapsed": false
   },
   "outputs": [
    {
     "data": {
      "text/plain": [
       "<seaborn.axisgrid.PairGrid at 0x7f723c379d50>"
      ]
     },
     "execution_count": 187,
     "metadata": {},
     "output_type": "execute_result"
    },
    {
     "data": {
      "image/png": "[encoded data removed]",
      "text/plain": [
       "<matplotlib.figure.Figure at 0x7f723c379d10>"
      ]
     },
     "metadata": {},
     "output_type": "display_data"
    }
   ],
   "source": [
    "sns.pairplot(np.log(df2[['Price', 'Case diameter']]))"
   ]
  },
  {
   "cell_type": "code",
   "execution_count": 31,
   "metadata": {
    "collapsed": false
   },
   "outputs": [
    {
     "data": {
      "text/plain": [
       "Price                        1.000000\n",
       "Minute Repeater              0.236550\n",
       "Case material_Platinum       0.225693\n",
       "Case material_White gold     0.189077\n",
       "Tourbillon                   0.184595\n",
       "Perpetual Calendar           0.164214\n",
       "Brand_Patek Philippe         0.146139\n",
       "Moonphase                    0.130154\n",
       "Month                        0.109179\n",
       "Skeletonized                 0.105841\n",
       "Case material_Pink gold      0.102516\n",
       "4 Year Calendar              0.091691\n",
       "Power Reserve Display        0.071326\n",
       "Small Seconds                0.067143\n",
       "Jumping hour                 0.066418\n",
       "log Case diameter            0.056777\n",
       "Case diameter                0.048964\n",
       "Display Back                 0.042593\n",
       "Limited Edition              0.031443\n",
       "Chiming clock                0.028896\n",
       "Annual calendar              0.025488\n",
       "Case material_Carbon         0.017312\n",
       "Case material_Titanium       0.014054\n",
       "Center Seconds               0.008717\n",
       "Weekday                      0.008236\n",
       "Equation of time             0.007092\n",
       "Guilloche Dial (handwork)    0.006793\n",
       "Genevian Seal                0.006478\n",
       "Chronograph                  0.005494\n",
       "Flyback                      0.004760\n",
       "                               ...   \n",
       "PVD/DLC coating             -0.003686\n",
       "Case material_Plastic       -0.003892\n",
       "Panorama-Date               -0.004341\n",
       "Case material_Silver        -0.004736\n",
       "Case material_Yellow gold   -0.005744\n",
       "Luminescent Numerals        -0.006092\n",
       "Double Chronograph          -0.007590\n",
       "Date                        -0.008234\n",
       "Screw-Down Push-Buttons     -0.013440\n",
       "Helium Valve                -0.015267\n",
       "Only Original Parts         -0.018968\n",
       "Luminescent Hands           -0.019120\n",
       "Luminous indexes            -0.021279\n",
       "Quick Set                   -0.023660\n",
       "Brand_IWC                   -0.024854\n",
       "Alarm                       -0.025722\n",
       "Brand_Hublot                -0.028113\n",
       "Case material_Ceramic       -0.032483\n",
       "Tachymeter                  -0.033173\n",
       "GMT                         -0.035317\n",
       "Brand_Jaeger-LeCoultre      -0.036523\n",
       "Brand_Panerai               -0.045777\n",
       "Brand_Omega                 -0.047016\n",
       "Case material_Gold/Steel    -0.056755\n",
       "Chronometer                 -0.073393\n",
       "Brand_Rolex                 -0.073853\n",
       "Rotating Bezel              -0.087718\n",
       "Brand_TAG Heuer             -0.093582\n",
       "Brand_Breitling             -0.116217\n",
       "Case material_Steel         -0.217825\n",
       "Name: Price, dtype: float64"
      ]
     },
     "execution_count": 31,
     "metadata": {},
     "output_type": "execute_result"
    }
   ],
   "source": [
    "df2.corr()['Price'].sort_values(ascending=False)"
   ]
  },
  {
   "cell_type": "code",
   "execution_count": 163,
   "metadata": {
    "collapsed": false
   },
   "outputs": [],
   "source": [
    "# l = df2.columns\n",
    "# for i, k in enumerate(l):\n",
    "#     print i, k"
   ]
  },
  {
   "cell_type": "code",
   "execution_count": 32,
   "metadata": {
    "collapsed": false
   },
   "outputs": [],
   "source": [
    "X = df2.drop('Price', axis=1)\n",
    "y = df2['Price']\n",
    "y_log = np.log(df2['Price'])"
   ]
  },
  {
   "cell_type": "code",
   "execution_count": 33,
   "metadata": {
    "collapsed": false
   },
   "outputs": [],
   "source": [
    "from sklearn.model_selection import train_test_split\n",
    "X_train, X_test, y_train, y_test = train_test_split(X, y_log, test_size=0.4)"
   ]
  },
  {
   "cell_type": "code",
   "execution_count": 34,
   "metadata": {
    "collapsed": false
   },
   "outputs": [
    {
     "data": {
      "image/png": "[encoded data removed]",
      "text/plain": [
       "<matplotlib.figure.Figure at 0x7f5c0fdb06d0>"
      ]
     },
     "metadata": {},
     "output_type": "display_data"
    }
   ],
   "source": [
    "from sklearn.linear_model import LinearRegression\n",
    "from sklearn.model_selection import cross_val_predict\n",
    "lr = LinearRegression()\n",
    "# lr.fit(X, y)\n",
    "predicted = cross_val_predict(lr, X, y_log, cv=10)\n",
    "\n",
    "fig, ax = plt.subplots()\n",
    "ax.scatter(y_log, predicted)\n",
    "ax.plot([np.log(y.min()), np.log(y.max())], [np.log(y.min()), np.log(y.max())], 'k--', lw=4)\n",
    "ax.set_xlabel('Measured')\n",
    "ax.set_ylabel('Predicted')\n",
    "plt.show()\n",
    "# lr.coef_"
   ]
  },
  {
   "cell_type": "code",
   "execution_count": 35,
   "metadata": {
    "collapsed": false
   },
   "outputs": [
    {
     "data": {
      "text/plain": [
       "0.72393139482770241"
      ]
     },
     "execution_count": 35,
     "metadata": {},
     "output_type": "execute_result"
    }
   ],
   "source": [
    "from sklearn.linear_model import RidgeCV\n",
    "rcv = RidgeCV(cv=10)\n",
    "rcvfit = rcv.fit(X_train, y_train)\n",
    "rcv.score(X_test, y_test)"
   ]
  },
  {
   "cell_type": "code",
   "execution_count": 175,
   "metadata": {
    "collapsed": false
   },
   "outputs": [
    {
     "data": {
      "text/plain": [
       "<matplotlib.axes._subplots.AxesSubplot at 0x7f725d431310>"
      ]
     },
     "execution_count": 175,
     "metadata": {},
     "output_type": "execute_result"
    },
    {
     "data": {
      "image/png": "[encoded data removed]",
      "text/plain": [
       "<matplotlib.figure.Figure at 0x7f7251b677d0>"
      ]
     },
     "metadata": {},
     "output_type": "display_data"
    }
   ],
   "source": [
    "import scipy.stats as stats\n",
    "y_log.hist(bins=100)"
   ]
  },
  {
   "cell_type": "code",
   "execution_count": 177,
   "metadata": {
    "collapsed": false
   },
   "outputs": [
    {
     "data": {
      "image/png": "[encoded data removed]",
      "text/plain": [
       "<matplotlib.figure.Figure at 0x7f7250d61f90>"
      ]
     },
     "metadata": {},
     "output_type": "display_data"
    }
   ],
   "source": [
    "predicted = rcvfit.predict(X)\n",
    "residuals = y_log - predicted\n",
    "\n",
    "df_plot = pd.DataFrame({'predicted' : predicted, 'residuals' : residuals}) \n",
    "\n",
    "with sns.axes_style('white'):\n",
    "    plot=df_plot.plot(kind='scatter',\n",
    "                  x='predicted',y='residuals',alpha=0.5,figsize=(10,6))\n",
    "\n"
   ]
  },
  {
   "cell_type": "code",
   "execution_count": 179,
   "metadata": {
    "collapsed": false
   },
   "outputs": [
    {
     "data": {
      "image/png": "[encoded data removed]",
      "text/plain": [
       "<matplotlib.figure.Figure at 0x7f725cba7490>"
      ]
     },
     "metadata": {},
     "output_type": "display_data"
    }
   ],
   "source": [
    "stats.probplot(df_plot['residuals'], dist=\"norm\", plot=plt)\n",
    "plt.title(\"Normal Q-Q plot\")\n",
    "plt.show()"
   ]
  },
  {
   "cell_type": "markdown",
   "metadata": {
    "collapsed": true
   },
   "source": [
    "## Model Part 2: Classify Over/Under-valued"
   ]
  },
  {
   "cell_type": "code",
   "execution_count": 126,
   "metadata": {
    "collapsed": true
   },
   "outputs": [],
   "source": [
    "# Create over/undervalued label\n",
    "\n",
    "def valuation(x):\n",
    "    n = [1 if v > 0 else 0 for v in x]\n",
    "    return n\n",
    "            "
   ]
  },
  {
   "cell_type": "code",
   "execution_count": 127,
   "metadata": {
    "collapsed": false
   },
   "outputs": [],
   "source": [
    "df2['Overvalued'] = valuation(y_log - predicted)"
   ]
  },
  {
   "cell_type": "code",
   "execution_count": 128,
   "metadata": {
    "collapsed": false
   },
   "outputs": [
    {
     "data": {
      "text/plain": [
       "0    4607\n",
       "1    3191\n",
       "Name: Overvalued, dtype: int64"
      ]
     },
     "execution_count": 128,
     "metadata": {},
     "output_type": "execute_result"
    }
   ],
   "source": [
    "df2['Overvalued'].value_counts()"
   ]
  },
  {
   "cell_type": "code",
   "execution_count": 146,
   "metadata": {
    "collapsed": true
   },
   "outputs": [],
   "source": [
    "X = df2.drop('Overvalued', axis=1)\n",
    "y = df2['Overvalued']"
   ]
  },
  {
   "cell_type": "code",
   "execution_count": 147,
   "metadata": {
    "collapsed": true
   },
   "outputs": [],
   "source": [
    "X_train, X_test, y_train, y_test = train_test_split(X, y, test_size=0.4)"
   ]
  },
  {
   "cell_type": "code",
   "execution_count": 148,
   "metadata": {
    "collapsed": false
   },
   "outputs": [
    {
     "name": "stdout",
     "output_type": "stream",
     "text": [
      "Accuracy: 0.73 (+/- 0.09)\n"
     ]
    }
   ],
   "source": [
    "from sklearn import linear_model, decomposition, datasets\n",
    "from sklearn.linear_model import LogisticRegressionCV\n",
    "from sklearn.model_selection import cross_val_score\n",
    "\n",
    "logistic = linear_model.LogisticRegressionCV(cv=10)\n",
    "logistic.fit(X_train, y_train)\n",
    "coefs = logistic.coef_\n",
    "\n",
    "scores = cross_val_score(logistic, X_test, y_test, cv=10, n_jobs = 1)\n",
    "print(\"Accuracy: %0.2f (+/- %0.2f)\" % (scores.mean(), scores.std() * 2))"
   ]
  },
  {
   "cell_type": "code",
   "execution_count": 149,
   "metadata": {
    "collapsed": false
   },
   "outputs": [],
   "source": [
    "from sklearn.model_selection import StratifiedKFold\n",
    "\n",
    "skf = StratifiedKFold(n_splits=3)\n",
    "for train_index, test_index in skf.split(X, y):\n",
    "#     print(\"TRAIN:\", train_index, \"TEST:\", test_index)\n",
    "    X_train, X_test = X.iloc[train_index], X.iloc[test_index]\n",
    "    y_train, y_test = y[train_index], y[test_index]"
   ]
  },
  {
   "cell_type": "code",
   "execution_count": null,
   "metadata": {
    "collapsed": false
   },
   "outputs": [],
   "source": [
    "from itertools import cycle\n",
    "\n",
    "from sklearn import svm\n",
    "from sklearn.metrics import roc_curve, auc\n",
    "from sklearn.model_selection import StratifiedKFold\n",
    "\n",
    "\n",
    "# Run classifier with cross-validation and plot ROC curves\n",
    "skf = StratifiedKFold(n_splits=6)\n",
    "classifier = svm.SVC(kernel='linear', probability=True)\n",
    "\n",
    "mean_tpr = 0.0\n",
    "mean_fpr = np.linspace(0, 1, 100)\n",
    "\n",
    "colors = cycle(['cyan', 'indigo', 'seagreen', 'yellow', 'blue', 'darkorange'])\n",
    "lw = 2\n",
    "\n",
    "i = 0\n",
    "for (train, test), color in zip(skf.split(X, y), colors):\n",
    "    probas_ = classifier.fit(X.iloc[train], y.iloc[train]).predict_proba(X.iloc[test])\n",
    "#     # Compute ROC curve and area the curve\n",
    "#     fpr, tpr, thresholds = roc_curve(y[test], probas_[:, 1])\n",
    "#     mean_tpr += interp(mean_fpr, fpr, tpr)\n",
    "#     mean_tpr[0] = 0.0\n",
    "#     roc_auc = auc(fpr, tpr)\n",
    "#     plt.plot(fpr, tpr, lw=lw, color=color,\n",
    "#              label='ROC fold %d (area = %0.2f)' % (i, roc_auc))\n",
    "\n",
    "#     i += 1\n",
    "# plt.plot([0, 1], [0, 1], linestyle='--', lw=lw, color='k',\n",
    "#          label='Luck')\n",
    "\n",
    "# mean_tpr /= cv.get_n_splits(X, y)\n",
    "# mean_tpr[-1] = 1.0\n",
    "# mean_auc = auc(mean_fpr, mean_tpr)\n",
    "# plt.plot(mean_fpr, mean_tpr, color='g', linestyle='--',\n",
    "#          label='Mean ROC (area = %0.2f)' % mean_auc, lw=lw)\n",
    "\n",
    "# plt.xlim([-0.05, 1.05])\n",
    "# plt.ylim([-0.05, 1.05])\n",
    "# plt.xlabel('False Positive Rate')\n",
    "# plt.ylabel('True Positive Rate')\n",
    "# plt.title('Receiver operating characteristic example')\n",
    "# plt.legend(loc=\"lower right\")\n",
    "# plt.show()"
   ]
  },
  {
   "cell_type": "code",
   "execution_count": 125,
   "metadata": {
    "collapsed": false
   },
   "outputs": [
    {
     "data": {
      "text/plain": [
       "True"
      ]
     },
     "execution_count": 125,
     "metadata": {},
     "output_type": "execute_result"
    }
   ],
   "source": [
    "y[train].isnull().values.any()"
   ]
  },
  {
   "cell_type": "code",
   "execution_count": 152,
   "metadata": {
    "collapsed": false
   },
   "outputs": [
    {
     "data": {
      "text/plain": [
       "0        0\n",
       "1        1\n",
       "2        0\n",
       "4        0\n",
       "13       1\n",
       "14       1\n",
       "15       0\n",
       "16       1\n",
       "17       0\n",
       "19       1\n",
       "20       1\n",
       "21       1\n",
       "22       1\n",
       "23       0\n",
       "24       1\n",
       "25       1\n",
       "26       0\n",
       "27       1\n",
       "29       1\n",
       "30       1\n",
       "31       1\n",
       "32       1\n",
       "33       0\n",
       "34       1\n",
       "35       1\n",
       "36       1\n",
       "37       1\n",
       "38       1\n",
       "39       0\n",
       "40       0\n",
       "        ..\n",
       "26769    1\n",
       "26771    1\n",
       "26773    1\n",
       "26775    1\n",
       "26779    1\n",
       "26780    1\n",
       "26781    1\n",
       "26783    1\n",
       "26784    1\n",
       "26786    1\n",
       "26787    1\n",
       "26791    1\n",
       "26792    1\n",
       "26793    1\n",
       "26794    1\n",
       "26798    1\n",
       "26799    1\n",
       "26802    1\n",
       "26803    1\n",
       "26809    1\n",
       "26811    1\n",
       "26814    1\n",
       "26815    1\n",
       "26830    1\n",
       "26838    1\n",
       "26839    1\n",
       "26846    1\n",
       "26847    1\n",
       "26848    1\n",
       "26850    1\n",
       "Name: Overvalued, dtype: int64"
      ]
     },
     "execution_count": 152,
     "metadata": {},
     "output_type": "execute_result"
    }
   ],
   "source": [
    "y.iloc[train]"
   ]
  },
  {
   "cell_type": "code",
   "execution_count": null,
   "metadata": {
    "collapsed": true
   },
   "outputs": [],
   "source": []
  }
 ],
 "metadata": {
  "kernelspec": {
   "display_name": "Python 2",
   "language": "python",
   "name": "python2"
  },
  "language_info": {
   "codemirror_mode": {
    "name": "ipython",
    "version": 2
   },
   "file_extension": ".py",
   "mimetype": "text/x-python",
   "name": "python",
   "nbconvert_exporter": "python",
   "pygments_lexer": "ipython2",
   "version": "2.7.13"
  }
 },
 "nbformat": 4,
 "nbformat_minor": 2
}
